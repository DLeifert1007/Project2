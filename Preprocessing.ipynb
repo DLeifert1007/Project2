{
 "cells": [
  {
   "cell_type": "code",
   "execution_count": null,
   "id": "4957b22c-5bd9-4433-8b73-c7b4d85332ad",
   "metadata": {},
   "outputs": [],
   "source": [
    "import pandas as pd\n",
    "import numpy as np\n",
    "from sklearn.linear_model import LinearRegression"
   ]
  },
  {
   "cell_type": "code",
   "execution_count": null,
   "id": "b978b6e7-ff86-442e-b450-cadc6c55c8e9",
   "metadata": {},
   "outputs": [],
   "source": [
    "# Read salary data\n",
    "file_path = \"../sports_management_dataset.csv\"\n",
    "df_sports_management = pd.read_csv(file_path)\n",
    "\n",
    "# Display sample data\n",
    "df_sports_management.head()"
   ]
  },
  {
   "cell_type": "code",
   "execution_count": null,
   "id": "f6abda39-33b5-43b4-afa8-b618db3b9762",
   "metadata": {},
   "outputs": [],
   "source": []
  }
 ],
 "metadata": {
  "kernelspec": {
   "display_name": "Python 3 (ipykernel)",
   "language": "python",
   "name": "python3"
  },
  "language_info": {
   "codemirror_mode": {
    "name": "ipython",
    "version": 3
   },
   "file_extension": ".py",
   "mimetype": "text/x-python",
   "name": "python",
   "nbconvert_exporter": "python",
   "pygments_lexer": "ipython3",
   "version": "3.10.14"
  }
 },
 "nbformat": 4,
 "nbformat_minor": 5
}
